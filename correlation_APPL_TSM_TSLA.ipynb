{
 "cells": [
  {
   "cell_type": "code",
   "execution_count": 105,
   "id": "36fd8fa2",
   "metadata": {},
   "outputs": [
    {
     "data": {
      "text/html": [
       "<div>\n",
       "<style scoped>\n",
       "    .dataframe tbody tr th:only-of-type {\n",
       "        vertical-align: middle;\n",
       "    }\n",
       "\n",
       "    .dataframe tbody tr th {\n",
       "        vertical-align: top;\n",
       "    }\n",
       "\n",
       "    .dataframe thead th {\n",
       "        text-align: right;\n",
       "    }\n",
       "</style>\n",
       "<table border=\"1\" class=\"dataframe\">\n",
       "  <thead>\n",
       "    <tr style=\"text-align: right;\">\n",
       "      <th></th>\n",
       "      <th>Date</th>\n",
       "      <th>pct_TSM</th>\n",
       "    </tr>\n",
       "  </thead>\n",
       "  <tbody>\n",
       "    <tr>\n",
       "      <th>0</th>\n",
       "      <td>2018-01-02</td>\n",
       "      <td>NaN</td>\n",
       "    </tr>\n",
       "    <tr>\n",
       "      <th>1</th>\n",
       "      <td>2018-01-03</td>\n",
       "      <td>0.016821</td>\n",
       "    </tr>\n",
       "    <tr>\n",
       "      <th>2</th>\n",
       "      <td>2018-01-04</td>\n",
       "      <td>-0.005274</td>\n",
       "    </tr>\n",
       "    <tr>\n",
       "      <th>3</th>\n",
       "      <td>2018-01-05</td>\n",
       "      <td>0.023379</td>\n",
       "    </tr>\n",
       "    <tr>\n",
       "      <th>4</th>\n",
       "      <td>2018-01-08</td>\n",
       "      <td>-0.000471</td>\n",
       "    </tr>\n",
       "    <tr>\n",
       "      <th>...</th>\n",
       "      <td>...</td>\n",
       "      <td>...</td>\n",
       "    </tr>\n",
       "    <tr>\n",
       "      <th>876</th>\n",
       "      <td>2021-06-25</td>\n",
       "      <td>-0.006056</td>\n",
       "    </tr>\n",
       "    <tr>\n",
       "      <th>877</th>\n",
       "      <td>2021-06-28</td>\n",
       "      <td>0.026431</td>\n",
       "    </tr>\n",
       "    <tr>\n",
       "      <th>878</th>\n",
       "      <td>2021-06-29</td>\n",
       "      <td>0.005184</td>\n",
       "    </tr>\n",
       "    <tr>\n",
       "      <th>879</th>\n",
       "      <td>2021-06-30</td>\n",
       "      <td>-0.000582</td>\n",
       "    </tr>\n",
       "    <tr>\n",
       "      <th>880</th>\n",
       "      <td>2021-07-01</td>\n",
       "      <td>-0.014481</td>\n",
       "    </tr>\n",
       "  </tbody>\n",
       "</table>\n",
       "<p>881 rows × 2 columns</p>\n",
       "</div>"
      ],
      "text/plain": [
       "           Date   pct_TSM\n",
       "0    2018-01-02       NaN\n",
       "1    2018-01-03  0.016821\n",
       "2    2018-01-04 -0.005274\n",
       "3    2018-01-05  0.023379\n",
       "4    2018-01-08 -0.000471\n",
       "..          ...       ...\n",
       "876  2021-06-25 -0.006056\n",
       "877  2021-06-28  0.026431\n",
       "878  2021-06-29  0.005184\n",
       "879  2021-06-30 -0.000582\n",
       "880  2021-07-01 -0.014481\n",
       "\n",
       "[881 rows x 2 columns]"
      ]
     },
     "execution_count": 105,
     "metadata": {},
     "output_type": "execute_result"
    }
   ],
   "source": [
    "#By using percentage data\n",
    "\n",
    "import pandas as pd\n",
    "import numpy as np\n",
    "import googlefinance \n",
    "import matplotlib.dates as mdates\n",
    "import matplotlib.pyplot as plt\n",
    "from functools import reduce\n",
    "import seaborn as sns\n",
    "from sklearn.metrics import r2_score\n",
    "sns.set_style('whitegrid')\n",
    "plt.style.use(\"fivethirtyeight\")\n",
    "\n",
    "\n",
    "\n",
    "df_TSM = pd.read_csv('TSM_2018_2021.csv', usecols = ['Date','Adj Close'], low_memory = False)\n",
    "#df_TSM.tail(100)\n",
    "\n",
    "#r = df['mid.c'].astype(float).pct_change(1)pct\n",
    "pct_TSM = df_TSM['Adj Close'].astype(float).pct_change()\n",
    "pct_TSM\n",
    "\n",
    "df_TSM['pct_TSM'] = pct_TSM\n",
    "del df_TSM['Adj Close']\n",
    "df_TSM\n",
    "#df_ = df.set_index(['Date'])\n",
    "\n",
    "\n"
   ]
  },
  {
   "cell_type": "code",
   "execution_count": 106,
   "id": "2fb8582c",
   "metadata": {},
   "outputs": [
    {
     "data": {
      "text/html": [
       "<div>\n",
       "<style scoped>\n",
       "    .dataframe tbody tr th:only-of-type {\n",
       "        vertical-align: middle;\n",
       "    }\n",
       "\n",
       "    .dataframe tbody tr th {\n",
       "        vertical-align: top;\n",
       "    }\n",
       "\n",
       "    .dataframe thead th {\n",
       "        text-align: right;\n",
       "    }\n",
       "</style>\n",
       "<table border=\"1\" class=\"dataframe\">\n",
       "  <thead>\n",
       "    <tr style=\"text-align: right;\">\n",
       "      <th></th>\n",
       "      <th>Date</th>\n",
       "      <th>pct_APPL</th>\n",
       "    </tr>\n",
       "  </thead>\n",
       "  <tbody>\n",
       "    <tr>\n",
       "      <th>0</th>\n",
       "      <td>2018-01-02</td>\n",
       "      <td>NaN</td>\n",
       "    </tr>\n",
       "    <tr>\n",
       "      <th>1</th>\n",
       "      <td>2018-01-03</td>\n",
       "      <td>-0.000174</td>\n",
       "    </tr>\n",
       "    <tr>\n",
       "      <th>2</th>\n",
       "      <td>2018-01-04</td>\n",
       "      <td>0.004645</td>\n",
       "    </tr>\n",
       "    <tr>\n",
       "      <th>3</th>\n",
       "      <td>2018-01-05</td>\n",
       "      <td>0.011385</td>\n",
       "    </tr>\n",
       "    <tr>\n",
       "      <th>4</th>\n",
       "      <td>2018-01-08</td>\n",
       "      <td>-0.003714</td>\n",
       "    </tr>\n",
       "    <tr>\n",
       "      <th>...</th>\n",
       "      <td>...</td>\n",
       "      <td>...</td>\n",
       "    </tr>\n",
       "    <tr>\n",
       "      <th>876</th>\n",
       "      <td>2021-06-25</td>\n",
       "      <td>-0.002249</td>\n",
       "    </tr>\n",
       "    <tr>\n",
       "      <th>877</th>\n",
       "      <td>2021-06-28</td>\n",
       "      <td>0.012546</td>\n",
       "    </tr>\n",
       "    <tr>\n",
       "      <th>878</th>\n",
       "      <td>2021-06-29</td>\n",
       "      <td>0.011500</td>\n",
       "    </tr>\n",
       "    <tr>\n",
       "      <th>879</th>\n",
       "      <td>2021-06-30</td>\n",
       "      <td>0.004621</td>\n",
       "    </tr>\n",
       "    <tr>\n",
       "      <th>880</th>\n",
       "      <td>2021-07-01</td>\n",
       "      <td>0.002263</td>\n",
       "    </tr>\n",
       "  </tbody>\n",
       "</table>\n",
       "<p>881 rows × 2 columns</p>\n",
       "</div>"
      ],
      "text/plain": [
       "           Date  pct_APPL\n",
       "0    2018-01-02       NaN\n",
       "1    2018-01-03 -0.000174\n",
       "2    2018-01-04  0.004645\n",
       "3    2018-01-05  0.011385\n",
       "4    2018-01-08 -0.003714\n",
       "..          ...       ...\n",
       "876  2021-06-25 -0.002249\n",
       "877  2021-06-28  0.012546\n",
       "878  2021-06-29  0.011500\n",
       "879  2021-06-30  0.004621\n",
       "880  2021-07-01  0.002263\n",
       "\n",
       "[881 rows x 2 columns]"
      ]
     },
     "execution_count": 106,
     "metadata": {},
     "output_type": "execute_result"
    }
   ],
   "source": [
    "df_APPL = pd.read_csv('APPL_2018_2021.csv', usecols = ['Date','Adj Close'], low_memory = False)\n",
    "#df_APPL.tail(100)\n",
    "pct_APPL = df_APPL['Adj Close'].astype(float).pct_change()\n",
    "pct_APPL\n",
    "df_APPL['pct_APPL'] = pct_APPL\n",
    "del df_APPL['Adj Close']\n",
    "df_APPL"
   ]
  },
  {
   "cell_type": "code",
   "execution_count": 107,
   "id": "fb931e85",
   "metadata": {},
   "outputs": [
    {
     "data": {
      "text/html": [
       "<div>\n",
       "<style scoped>\n",
       "    .dataframe tbody tr th:only-of-type {\n",
       "        vertical-align: middle;\n",
       "    }\n",
       "\n",
       "    .dataframe tbody tr th {\n",
       "        vertical-align: top;\n",
       "    }\n",
       "\n",
       "    .dataframe thead th {\n",
       "        text-align: right;\n",
       "    }\n",
       "</style>\n",
       "<table border=\"1\" class=\"dataframe\">\n",
       "  <thead>\n",
       "    <tr style=\"text-align: right;\">\n",
       "      <th></th>\n",
       "      <th>Date</th>\n",
       "      <th>pct_TSLA</th>\n",
       "    </tr>\n",
       "  </thead>\n",
       "  <tbody>\n",
       "    <tr>\n",
       "      <th>0</th>\n",
       "      <td>2018-01-02</td>\n",
       "      <td>NaN</td>\n",
       "    </tr>\n",
       "    <tr>\n",
       "      <th>1</th>\n",
       "      <td>2018-01-03</td>\n",
       "      <td>-0.010233</td>\n",
       "    </tr>\n",
       "    <tr>\n",
       "      <th>2</th>\n",
       "      <td>2018-01-04</td>\n",
       "      <td>-0.008290</td>\n",
       "    </tr>\n",
       "    <tr>\n",
       "      <th>3</th>\n",
       "      <td>2018-01-05</td>\n",
       "      <td>0.006230</td>\n",
       "    </tr>\n",
       "    <tr>\n",
       "      <th>4</th>\n",
       "      <td>2018-01-08</td>\n",
       "      <td>0.062638</td>\n",
       "    </tr>\n",
       "    <tr>\n",
       "      <th>...</th>\n",
       "      <td>...</td>\n",
       "      <td>...</td>\n",
       "    </tr>\n",
       "    <tr>\n",
       "      <th>877</th>\n",
       "      <td>2021-06-28</td>\n",
       "      <td>0.025079</td>\n",
       "    </tr>\n",
       "    <tr>\n",
       "      <th>878</th>\n",
       "      <td>2021-06-29</td>\n",
       "      <td>-0.011558</td>\n",
       "    </tr>\n",
       "    <tr>\n",
       "      <th>879</th>\n",
       "      <td>2021-06-30</td>\n",
       "      <td>-0.001557</td>\n",
       "    </tr>\n",
       "    <tr>\n",
       "      <th>880</th>\n",
       "      <td>2021-07-01</td>\n",
       "      <td>-0.002619</td>\n",
       "    </tr>\n",
       "    <tr>\n",
       "      <th>881</th>\n",
       "      <td>2021-07-02</td>\n",
       "      <td>0.001446</td>\n",
       "    </tr>\n",
       "  </tbody>\n",
       "</table>\n",
       "<p>882 rows × 2 columns</p>\n",
       "</div>"
      ],
      "text/plain": [
       "           Date  pct_TSLA\n",
       "0    2018-01-02       NaN\n",
       "1    2018-01-03 -0.010233\n",
       "2    2018-01-04 -0.008290\n",
       "3    2018-01-05  0.006230\n",
       "4    2018-01-08  0.062638\n",
       "..          ...       ...\n",
       "877  2021-06-28  0.025079\n",
       "878  2021-06-29 -0.011558\n",
       "879  2021-06-30 -0.001557\n",
       "880  2021-07-01 -0.002619\n",
       "881  2021-07-02  0.001446\n",
       "\n",
       "[882 rows x 2 columns]"
      ]
     },
     "execution_count": 107,
     "metadata": {},
     "output_type": "execute_result"
    }
   ],
   "source": [
    "df_TSLA = pd.read_csv('TSLA_2018_2021.csv', usecols = ['Date','Adj Close'], low_memory = False)\n",
    "#df_APPL.tail(100)\n",
    "pct_TSLA = df_TSLA['Adj Close'].astype(float).pct_change()\n",
    "pct_TSLA\n",
    "df_TSLA['pct_TSLA'] = pct_TSLA\n",
    "del df_TSLA['Adj Close']\n",
    "df_TSLA"
   ]
  },
  {
   "cell_type": "code",
   "execution_count": 108,
   "id": "823fc19d",
   "metadata": {},
   "outputs": [
    {
     "data": {
      "text/html": [
       "<div>\n",
       "<style scoped>\n",
       "    .dataframe tbody tr th:only-of-type {\n",
       "        vertical-align: middle;\n",
       "    }\n",
       "\n",
       "    .dataframe tbody tr th {\n",
       "        vertical-align: top;\n",
       "    }\n",
       "\n",
       "    .dataframe thead th {\n",
       "        text-align: right;\n",
       "    }\n",
       "</style>\n",
       "<table border=\"1\" class=\"dataframe\">\n",
       "  <thead>\n",
       "    <tr style=\"text-align: right;\">\n",
       "      <th></th>\n",
       "      <th>Date</th>\n",
       "      <th>pct_TSM</th>\n",
       "      <th>pct_APPL</th>\n",
       "      <th>pct_TSLA</th>\n",
       "    </tr>\n",
       "  </thead>\n",
       "  <tbody>\n",
       "    <tr>\n",
       "      <th>0</th>\n",
       "      <td>2018-01-02</td>\n",
       "      <td>NaN</td>\n",
       "      <td>NaN</td>\n",
       "      <td>NaN</td>\n",
       "    </tr>\n",
       "    <tr>\n",
       "      <th>1</th>\n",
       "      <td>2018-01-03</td>\n",
       "      <td>0.016821</td>\n",
       "      <td>-0.000174</td>\n",
       "      <td>-0.010233</td>\n",
       "    </tr>\n",
       "    <tr>\n",
       "      <th>2</th>\n",
       "      <td>2018-01-04</td>\n",
       "      <td>-0.005274</td>\n",
       "      <td>0.004645</td>\n",
       "      <td>-0.008290</td>\n",
       "    </tr>\n",
       "    <tr>\n",
       "      <th>3</th>\n",
       "      <td>2018-01-05</td>\n",
       "      <td>0.023379</td>\n",
       "      <td>0.011385</td>\n",
       "      <td>0.006230</td>\n",
       "    </tr>\n",
       "    <tr>\n",
       "      <th>4</th>\n",
       "      <td>2018-01-08</td>\n",
       "      <td>-0.000471</td>\n",
       "      <td>-0.003714</td>\n",
       "      <td>0.062638</td>\n",
       "    </tr>\n",
       "    <tr>\n",
       "      <th>...</th>\n",
       "      <td>...</td>\n",
       "      <td>...</td>\n",
       "      <td>...</td>\n",
       "      <td>...</td>\n",
       "    </tr>\n",
       "    <tr>\n",
       "      <th>876</th>\n",
       "      <td>2021-06-25</td>\n",
       "      <td>-0.006056</td>\n",
       "      <td>-0.002249</td>\n",
       "      <td>-0.011694</td>\n",
       "    </tr>\n",
       "    <tr>\n",
       "      <th>877</th>\n",
       "      <td>2021-06-28</td>\n",
       "      <td>0.026431</td>\n",
       "      <td>0.012546</td>\n",
       "      <td>0.025079</td>\n",
       "    </tr>\n",
       "    <tr>\n",
       "      <th>878</th>\n",
       "      <td>2021-06-29</td>\n",
       "      <td>0.005184</td>\n",
       "      <td>0.011500</td>\n",
       "      <td>-0.011558</td>\n",
       "    </tr>\n",
       "    <tr>\n",
       "      <th>879</th>\n",
       "      <td>2021-06-30</td>\n",
       "      <td>-0.000582</td>\n",
       "      <td>0.004621</td>\n",
       "      <td>-0.001557</td>\n",
       "    </tr>\n",
       "    <tr>\n",
       "      <th>880</th>\n",
       "      <td>2021-07-01</td>\n",
       "      <td>-0.014481</td>\n",
       "      <td>0.002263</td>\n",
       "      <td>-0.002619</td>\n",
       "    </tr>\n",
       "  </tbody>\n",
       "</table>\n",
       "<p>881 rows × 4 columns</p>\n",
       "</div>"
      ],
      "text/plain": [
       "           Date   pct_TSM  pct_APPL  pct_TSLA\n",
       "0    2018-01-02       NaN       NaN       NaN\n",
       "1    2018-01-03  0.016821 -0.000174 -0.010233\n",
       "2    2018-01-04 -0.005274  0.004645 -0.008290\n",
       "3    2018-01-05  0.023379  0.011385  0.006230\n",
       "4    2018-01-08 -0.000471 -0.003714  0.062638\n",
       "..          ...       ...       ...       ...\n",
       "876  2021-06-25 -0.006056 -0.002249 -0.011694\n",
       "877  2021-06-28  0.026431  0.012546  0.025079\n",
       "878  2021-06-29  0.005184  0.011500 -0.011558\n",
       "879  2021-06-30 -0.000582  0.004621 -0.001557\n",
       "880  2021-07-01 -0.014481  0.002263 -0.002619\n",
       "\n",
       "[881 rows x 4 columns]"
      ]
     },
     "execution_count": 108,
     "metadata": {},
     "output_type": "execute_result"
    }
   ],
   "source": [
    "dfs = [df_TSM, df_APPL, df_TSLA]\n",
    "\n",
    "dfs\n",
    "\n",
    "df_final = reduce(lambda left,right: pd.merge(left,right,on='Date'), dfs)\n",
    "\n",
    "df_final.tail(1000)\n",
    "\n",
    "\n"
   ]
  },
  {
   "cell_type": "code",
   "execution_count": 109,
   "id": "c1086ea5",
   "metadata": {},
   "outputs": [
    {
     "name": "stderr",
     "output_type": "stream",
     "text": [
      "/Users/freyahu/opt/anaconda3/lib/python3.8/site-packages/seaborn/_decorators.py:36: FutureWarning: Pass the following variables as keyword args: x, y, data. From version 0.12, the only valid positional argument will be `data`, and passing other arguments without an explicit keyword will result in an error or misinterpretation.\n",
      "  warnings.warn(\n"
     ]
    },
    {
     "data": {
      "text/plain": [
       "<seaborn.axisgrid.JointGrid at 0x7fee89982c40>"
      ]
     },
     "execution_count": 109,
     "metadata": {},
     "output_type": "execute_result"
    },
    {
     "data": {
      "image/png": "[encoded data removed]",
      "text/plain": [
       "<Figure size 432x432 with 3 Axes>"
      ]
     },
     "metadata": {},
     "output_type": "display_data"
    }
   ],
   "source": [
    "#APPL and TSM scatter correlation\n",
    "\n",
    "sns.jointplot('pct_APPL', 'pct_TSM', df_final, kind='scatter')\n"
   ]
  },
  {
   "cell_type": "code",
   "execution_count": 1,
   "id": "bd86e6ac",
   "metadata": {},
   "outputs": [
    {
     "ename": "NameError",
     "evalue": "name 'pct_APPL' is not defined",
     "output_type": "error",
     "traceback": [
      "\u001b[0;31m---------------------------------------------------------------------------\u001b[0m",
      "\u001b[0;31mNameError\u001b[0m                                 Traceback (most recent call last)",
      "\u001b[0;32m<ipython-input-1-5a0b4bfe7534>\u001b[0m in \u001b[0;36m<module>\u001b[0;34m\u001b[0m\n\u001b[1;32m      7\u001b[0m \u001b[0;34m\u001b[0m\u001b[0m\n\u001b[1;32m      8\u001b[0m \u001b[0;31m#To use percentage change to r1 sqaure\u001b[0m\u001b[0;34m\u001b[0m\u001b[0;34m\u001b[0m\u001b[0;34m\u001b[0m\u001b[0m\n\u001b[0;32m----> 9\u001b[0;31m \u001b[0ma\u001b[0m \u001b[0;34m=\u001b[0m \u001b[0mpct_APPL\u001b[0m\u001b[0;34m.\u001b[0m\u001b[0mtail\u001b[0m\u001b[0;34m(\u001b[0m\u001b[0;36m500\u001b[0m\u001b[0;34m)\u001b[0m\u001b[0;34m\u001b[0m\u001b[0;34m\u001b[0m\u001b[0m\n\u001b[0m\u001b[1;32m     10\u001b[0m \u001b[0mb\u001b[0m \u001b[0;34m=\u001b[0m \u001b[0mpct_TSM\u001b[0m\u001b[0;34m.\u001b[0m\u001b[0mtail\u001b[0m\u001b[0;34m(\u001b[0m\u001b[0;36m500\u001b[0m\u001b[0;34m)\u001b[0m\u001b[0;34m\u001b[0m\u001b[0;34m\u001b[0m\u001b[0m\n\u001b[1;32m     11\u001b[0m \u001b[0;34m\u001b[0m\u001b[0m\n",
      "\u001b[0;31mNameError\u001b[0m: name 'pct_APPL' is not defined"
     ]
    }
   ],
   "source": [
    "#AAPL and TSM correlation R2 square\n",
    "# tsla = df_TSLA['Adj Close'].astype(float)\n",
    "# appl = df_APPL['Adj Close'].astype(float)\n",
    "\n",
    "# a = tsla.tail(500)\n",
    "# b = appl.tail(500)\n",
    "\n",
    "#To use percentage change to r1 sqaure\n",
    "a = pct_APPL.tail(500)\n",
    "b = pct_TSM.tail(500)\n",
    "\n",
    "r2_APTSM = r2_score(a,b)\n",
    "r2_APTSM"
   ]
  },
  {
   "cell_type": "code",
   "execution_count": 92,
   "id": "4907d2c0",
   "metadata": {},
   "outputs": [
    {
     "name": "stderr",
     "output_type": "stream",
     "text": [
      "/Users/freyahu/opt/anaconda3/lib/python3.8/site-packages/seaborn/_decorators.py:36: FutureWarning: Pass the following variables as keyword args: x, y, data. From version 0.12, the only valid positional argument will be `data`, and passing other arguments without an explicit keyword will result in an error or misinterpretation.\n",
      "  warnings.warn(\n"
     ]
    },
    {
     "data": {
      "text/plain": [
       "<seaborn.axisgrid.JointGrid at 0x7fee8a010550>"
      ]
     },
     "execution_count": 92,
     "metadata": {},
     "output_type": "execute_result"
    },
    {
     "data": {
      "image/png": "[encoded data removed]",
      "text/plain": [
       "<Figure size 432x432 with 3 Axes>"
      ]
     },
     "metadata": {},
     "output_type": "display_data"
    }
   ],
   "source": [
    "#AAPL and TSLA correlation \n",
    "sns.jointplot('pct_APPL', 'pct_TSLA', df_final, kind='scatter')"
   ]
  },
  {
   "cell_type": "code",
   "execution_count": 97,
   "id": "be90d233",
   "metadata": {},
   "outputs": [
    {
     "data": {
      "text/plain": [
       "-4.333294442007443"
      ]
     },
     "execution_count": 97,
     "metadata": {},
     "output_type": "execute_result"
    }
   ],
   "source": [
    "#APPL and TSLA R2 square \n",
    "\n",
    "x = pct_APPL.tail(500)\n",
    "y = pct_TSLA.tail(500)\n",
    "\n",
    "r2_APTSLA = r2_score(x,y)\n",
    "r2_APTSLA"
   ]
  },
  {
   "cell_type": "code",
   "execution_count": 98,
   "id": "c14bc7c8",
   "metadata": {},
   "outputs": [
    {
     "name": "stderr",
     "output_type": "stream",
     "text": [
      "/Users/freyahu/opt/anaconda3/lib/python3.8/site-packages/seaborn/_decorators.py:36: FutureWarning: Pass the following variables as keyword args: x, y, data. From version 0.12, the only valid positional argument will be `data`, and passing other arguments without an explicit keyword will result in an error or misinterpretation.\n",
      "  warnings.warn(\n"
     ]
    },
    {
     "data": {
      "text/plain": [
       "<seaborn.axisgrid.JointGrid at 0x7fee8a291160>"
      ]
     },
     "execution_count": 98,
     "metadata": {},
     "output_type": "execute_result"
    },
    {
     "data": {
      "image/png": "[encoded data removed]",
      "text/plain": [
       "<Figure size 432x432 with 3 Axes>"
      ]
     },
     "metadata": {},
     "output_type": "display_data"
    }
   ],
   "source": [
    "#TSM and TSLA correlation (scatter)\n",
    "sns.jointplot('pct_TSM', 'pct_TSLA', df_final, kind='scatter')"
   ]
  },
  {
   "cell_type": "code",
   "execution_count": 103,
   "id": "1bb5a2b3",
   "metadata": {},
   "outputs": [
    {
     "data": {
      "text/plain": [
       "-3.8541703753070964"
      ]
     },
     "execution_count": 103,
     "metadata": {},
     "output_type": "execute_result"
    }
   ],
   "source": [
    "#TSM and TSLA R2 square\n",
    "\n",
    "x = pct_TSM.tail(500)\n",
    "y = pct_TSLA.tail(500)\n",
    "\n",
    "r2_TSMTSLA = r2_score(x,y)\n",
    "r2_TSMTSLA\n"
   ]
  },
  {
   "cell_type": "code",
   "execution_count": null,
   "id": "f5dd91fe",
   "metadata": {},
   "outputs": [],
   "source": []
  }
 ],
 "metadata": {
  "kernelspec": {
   "display_name": "Python 3",
   "language": "python",
   "name": "python3"
  },
  "language_info": {
   "codemirror_mode": {
    "name": "ipython",
    "version": 3
   },
   "file_extension": ".py",
   "mimetype": "text/x-python",
   "name": "python",
   "nbconvert_exporter": "python",
   "pygments_lexer": "ipython3",
   "version": "3.8.8"
  }
 },
 "nbformat": 4,
 "nbformat_minor": 5
}
