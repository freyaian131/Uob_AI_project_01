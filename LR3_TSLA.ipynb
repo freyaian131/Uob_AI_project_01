{
 "cells": [
  {
   "cell_type": "code",
   "execution_count": 93,
   "id": "f80c0a9e",
   "metadata": {},
   "outputs": [],
   "source": [
    "#reference link: https://github.com/mediasittich/Predicting-Stock-Prices-with-Linear-Regression/blob/master/Predicting%20Stock%20Prices%20with%20Linear%20Regression.ipynb\n",
    "from sklearn.model_selection import train_test_split\n",
    "from sklearn.linear_model import LinearRegression\n",
    "import pandas as pd\n",
    "import numpy as np\n",
    "import matplotlib.pyplot as plt\n",
    "import pickle\n",
    "import os\n",
    "from sklearn.metrics import mean_absolute_error as mae\n",
    "\n",
    "\n",
    "df = pd.read_csv('TSLA_2018_2021.csv')\n",
    "# Import matplotlib package for date plots\n",
    "import matplotlib.dates as mdates"
   ]
  },
  {
   "cell_type": "code",
   "execution_count": 94,
   "id": "56429dbf",
   "metadata": {},
   "outputs": [],
   "source": [
    "\n",
    "# Import package for splitting data set\n",
    "from sklearn.model_selection import train_test_split\n",
    "# Split data into train and test set: 80% / 20%\n",
    "train, test = train_test_split(df, test_size=0.2)"
   ]
  },
  {
   "cell_type": "code",
   "execution_count": 101,
   "id": "1dea5ab6",
   "metadata": {},
   "outputs": [
    {
     "data": {
      "text/html": [
       "<div>\n",
       "<style scoped>\n",
       "    .dataframe tbody tr th:only-of-type {\n",
       "        vertical-align: middle;\n",
       "    }\n",
       "\n",
       "    .dataframe tbody tr th {\n",
       "        vertical-align: top;\n",
       "    }\n",
       "\n",
       "    .dataframe thead th {\n",
       "        text-align: right;\n",
       "    }\n",
       "</style>\n",
       "<table border=\"1\" class=\"dataframe\">\n",
       "  <thead>\n",
       "    <tr style=\"text-align: right;\">\n",
       "      <th></th>\n",
       "      <th>Date</th>\n",
       "      <th>Open</th>\n",
       "      <th>High</th>\n",
       "      <th>Low</th>\n",
       "      <th>Close</th>\n",
       "      <th>Adj Close</th>\n",
       "      <th>Volume</th>\n",
       "    </tr>\n",
       "  </thead>\n",
       "  <tbody>\n",
       "    <tr>\n",
       "      <th>327</th>\n",
       "      <td>2019-04-23</td>\n",
       "      <td>52.029999</td>\n",
       "      <td>53.119999</td>\n",
       "      <td>51.150002</td>\n",
       "      <td>52.779999</td>\n",
       "      <td>52.779999</td>\n",
       "      <td>54719500</td>\n",
       "    </tr>\n",
       "    <tr>\n",
       "      <th>301</th>\n",
       "      <td>2019-03-15</td>\n",
       "      <td>56.702000</td>\n",
       "      <td>56.743999</td>\n",
       "      <td>54.880001</td>\n",
       "      <td>55.085999</td>\n",
       "      <td>55.085999</td>\n",
       "      <td>73927500</td>\n",
       "    </tr>\n",
       "    <tr>\n",
       "      <th>499</th>\n",
       "      <td>2019-12-26</td>\n",
       "      <td>85.582001</td>\n",
       "      <td>86.695999</td>\n",
       "      <td>85.269997</td>\n",
       "      <td>86.188004</td>\n",
       "      <td>86.188004</td>\n",
       "      <td>53169500</td>\n",
       "    </tr>\n",
       "    <tr>\n",
       "      <th>849</th>\n",
       "      <td>2021-05-18</td>\n",
       "      <td>568.000000</td>\n",
       "      <td>596.250000</td>\n",
       "      <td>563.380005</td>\n",
       "      <td>577.869995</td>\n",
       "      <td>577.869995</td>\n",
       "      <td>36830600</td>\n",
       "    </tr>\n",
       "    <tr>\n",
       "      <th>18</th>\n",
       "      <td>2018-01-29</td>\n",
       "      <td>67.970001</td>\n",
       "      <td>70.169998</td>\n",
       "      <td>67.655998</td>\n",
       "      <td>69.905998</td>\n",
       "      <td>69.905998</td>\n",
       "      <td>23735500</td>\n",
       "    </tr>\n",
       "    <tr>\n",
       "      <th>...</th>\n",
       "      <td>...</td>\n",
       "      <td>...</td>\n",
       "      <td>...</td>\n",
       "      <td>...</td>\n",
       "      <td>...</td>\n",
       "      <td>...</td>\n",
       "      <td>...</td>\n",
       "    </tr>\n",
       "    <tr>\n",
       "      <th>25</th>\n",
       "      <td>2018-02-07</td>\n",
       "      <td>67.797997</td>\n",
       "      <td>69.199997</td>\n",
       "      <td>67.132004</td>\n",
       "      <td>69.000000</td>\n",
       "      <td>69.000000</td>\n",
       "      <td>34846000</td>\n",
       "    </tr>\n",
       "    <tr>\n",
       "      <th>371</th>\n",
       "      <td>2019-06-25</td>\n",
       "      <td>44.877998</td>\n",
       "      <td>45.068001</td>\n",
       "      <td>43.897999</td>\n",
       "      <td>43.952000</td>\n",
       "      <td>43.952000</td>\n",
       "      <td>30910500</td>\n",
       "    </tr>\n",
       "    <tr>\n",
       "      <th>757</th>\n",
       "      <td>2021-01-05</td>\n",
       "      <td>723.659973</td>\n",
       "      <td>740.840027</td>\n",
       "      <td>719.200012</td>\n",
       "      <td>735.109985</td>\n",
       "      <td>735.109985</td>\n",
       "      <td>32245200</td>\n",
       "    </tr>\n",
       "    <tr>\n",
       "      <th>8</th>\n",
       "      <td>2018-01-12</td>\n",
       "      <td>67.725998</td>\n",
       "      <td>68.082001</td>\n",
       "      <td>66.734001</td>\n",
       "      <td>67.244003</td>\n",
       "      <td>67.244003</td>\n",
       "      <td>24125500</td>\n",
       "    </tr>\n",
       "    <tr>\n",
       "      <th>319</th>\n",
       "      <td>2019-04-10</td>\n",
       "      <td>55.348000</td>\n",
       "      <td>55.675999</td>\n",
       "      <td>54.577999</td>\n",
       "      <td>55.212002</td>\n",
       "      <td>55.212002</td>\n",
       "      <td>35306500</td>\n",
       "    </tr>\n",
       "  </tbody>\n",
       "</table>\n",
       "<p>705 rows × 7 columns</p>\n",
       "</div>"
      ],
      "text/plain": [
       "           Date        Open        High         Low       Close   Adj Close  \\\n",
       "327  2019-04-23   52.029999   53.119999   51.150002   52.779999   52.779999   \n",
       "301  2019-03-15   56.702000   56.743999   54.880001   55.085999   55.085999   \n",
       "499  2019-12-26   85.582001   86.695999   85.269997   86.188004   86.188004   \n",
       "849  2021-05-18  568.000000  596.250000  563.380005  577.869995  577.869995   \n",
       "18   2018-01-29   67.970001   70.169998   67.655998   69.905998   69.905998   \n",
       "..          ...         ...         ...         ...         ...         ...   \n",
       "25   2018-02-07   67.797997   69.199997   67.132004   69.000000   69.000000   \n",
       "371  2019-06-25   44.877998   45.068001   43.897999   43.952000   43.952000   \n",
       "757  2021-01-05  723.659973  740.840027  719.200012  735.109985  735.109985   \n",
       "8    2018-01-12   67.725998   68.082001   66.734001   67.244003   67.244003   \n",
       "319  2019-04-10   55.348000   55.675999   54.577999   55.212002   55.212002   \n",
       "\n",
       "       Volume  \n",
       "327  54719500  \n",
       "301  73927500  \n",
       "499  53169500  \n",
       "849  36830600  \n",
       "18   23735500  \n",
       "..        ...  \n",
       "25   34846000  \n",
       "371  30910500  \n",
       "757  32245200  \n",
       "8    24125500  \n",
       "319  35306500  \n",
       "\n",
       "[705 rows x 7 columns]"
      ]
     },
     "execution_count": 101,
     "metadata": {},
     "output_type": "execute_result"
    }
   ],
   "source": [
    "train"
   ]
  },
  {
   "cell_type": "code",
   "execution_count": 102,
   "id": "e2ef18fb",
   "metadata": {},
   "outputs": [
    {
     "data": {
      "text/html": [
       "<div>\n",
       "<style scoped>\n",
       "    .dataframe tbody tr th:only-of-type {\n",
       "        vertical-align: middle;\n",
       "    }\n",
       "\n",
       "    .dataframe tbody tr th {\n",
       "        vertical-align: top;\n",
       "    }\n",
       "\n",
       "    .dataframe thead th {\n",
       "        text-align: right;\n",
       "    }\n",
       "</style>\n",
       "<table border=\"1\" class=\"dataframe\">\n",
       "  <thead>\n",
       "    <tr style=\"text-align: right;\">\n",
       "      <th></th>\n",
       "      <th>Date</th>\n",
       "      <th>Open</th>\n",
       "      <th>High</th>\n",
       "      <th>Low</th>\n",
       "      <th>Close</th>\n",
       "      <th>Adj Close</th>\n",
       "      <th>Volume</th>\n",
       "    </tr>\n",
       "  </thead>\n",
       "  <tbody>\n",
       "    <tr>\n",
       "      <th>805</th>\n",
       "      <td>2021-03-16</td>\n",
       "      <td>703.349976</td>\n",
       "      <td>707.919983</td>\n",
       "      <td>671.000000</td>\n",
       "      <td>676.880005</td>\n",
       "      <td>676.880005</td>\n",
       "      <td>32195700</td>\n",
       "    </tr>\n",
       "    <tr>\n",
       "      <th>389</th>\n",
       "      <td>2019-07-22</td>\n",
       "      <td>51.750000</td>\n",
       "      <td>52.430000</td>\n",
       "      <td>50.838001</td>\n",
       "      <td>51.136002</td>\n",
       "      <td>51.136002</td>\n",
       "      <td>34212000</td>\n",
       "    </tr>\n",
       "    <tr>\n",
       "      <th>407</th>\n",
       "      <td>2019-08-15</td>\n",
       "      <td>44.172001</td>\n",
       "      <td>44.312000</td>\n",
       "      <td>42.310001</td>\n",
       "      <td>43.127998</td>\n",
       "      <td>43.127998</td>\n",
       "      <td>40798000</td>\n",
       "    </tr>\n",
       "    <tr>\n",
       "      <th>302</th>\n",
       "      <td>2019-03-18</td>\n",
       "      <td>55.200001</td>\n",
       "      <td>55.610001</td>\n",
       "      <td>53.459999</td>\n",
       "      <td>53.897999</td>\n",
       "      <td>53.897999</td>\n",
       "      <td>51405000</td>\n",
       "    </tr>\n",
       "    <tr>\n",
       "      <th>349</th>\n",
       "      <td>2019-05-23</td>\n",
       "      <td>38.868000</td>\n",
       "      <td>39.894001</td>\n",
       "      <td>37.243999</td>\n",
       "      <td>39.098000</td>\n",
       "      <td>39.098000</td>\n",
       "      <td>132735500</td>\n",
       "    </tr>\n",
       "    <tr>\n",
       "      <th>...</th>\n",
       "      <td>...</td>\n",
       "      <td>...</td>\n",
       "      <td>...</td>\n",
       "      <td>...</td>\n",
       "      <td>...</td>\n",
       "      <td>...</td>\n",
       "      <td>...</td>\n",
       "    </tr>\n",
       "    <tr>\n",
       "      <th>97</th>\n",
       "      <td>2018-05-22</td>\n",
       "      <td>57.551998</td>\n",
       "      <td>57.599998</td>\n",
       "      <td>54.683998</td>\n",
       "      <td>55.001999</td>\n",
       "      <td>55.001999</td>\n",
       "      <td>44729000</td>\n",
       "    </tr>\n",
       "    <tr>\n",
       "      <th>31</th>\n",
       "      <td>2018-02-15</td>\n",
       "      <td>64.900002</td>\n",
       "      <td>66.823997</td>\n",
       "      <td>64.480003</td>\n",
       "      <td>66.814003</td>\n",
       "      <td>66.814003</td>\n",
       "      <td>29564500</td>\n",
       "    </tr>\n",
       "    <tr>\n",
       "      <th>460</th>\n",
       "      <td>2019-10-30</td>\n",
       "      <td>62.599998</td>\n",
       "      <td>63.757999</td>\n",
       "      <td>61.993999</td>\n",
       "      <td>63.001999</td>\n",
       "      <td>63.001999</td>\n",
       "      <td>48209000</td>\n",
       "    </tr>\n",
       "    <tr>\n",
       "      <th>173</th>\n",
       "      <td>2018-09-10</td>\n",
       "      <td>54.652000</td>\n",
       "      <td>57.206001</td>\n",
       "      <td>54.200001</td>\n",
       "      <td>57.099998</td>\n",
       "      <td>57.099998</td>\n",
       "      <td>71417500</td>\n",
       "    </tr>\n",
       "    <tr>\n",
       "      <th>760</th>\n",
       "      <td>2021-01-08</td>\n",
       "      <td>856.000000</td>\n",
       "      <td>884.489990</td>\n",
       "      <td>838.390015</td>\n",
       "      <td>880.020020</td>\n",
       "      <td>880.020020</td>\n",
       "      <td>75055500</td>\n",
       "    </tr>\n",
       "  </tbody>\n",
       "</table>\n",
       "<p>177 rows × 7 columns</p>\n",
       "</div>"
      ],
      "text/plain": [
       "           Date        Open        High         Low       Close   Adj Close  \\\n",
       "805  2021-03-16  703.349976  707.919983  671.000000  676.880005  676.880005   \n",
       "389  2019-07-22   51.750000   52.430000   50.838001   51.136002   51.136002   \n",
       "407  2019-08-15   44.172001   44.312000   42.310001   43.127998   43.127998   \n",
       "302  2019-03-18   55.200001   55.610001   53.459999   53.897999   53.897999   \n",
       "349  2019-05-23   38.868000   39.894001   37.243999   39.098000   39.098000   \n",
       "..          ...         ...         ...         ...         ...         ...   \n",
       "97   2018-05-22   57.551998   57.599998   54.683998   55.001999   55.001999   \n",
       "31   2018-02-15   64.900002   66.823997   64.480003   66.814003   66.814003   \n",
       "460  2019-10-30   62.599998   63.757999   61.993999   63.001999   63.001999   \n",
       "173  2018-09-10   54.652000   57.206001   54.200001   57.099998   57.099998   \n",
       "760  2021-01-08  856.000000  884.489990  838.390015  880.020020  880.020020   \n",
       "\n",
       "        Volume  \n",
       "805   32195700  \n",
       "389   34212000  \n",
       "407   40798000  \n",
       "302   51405000  \n",
       "349  132735500  \n",
       "..         ...  \n",
       "97    44729000  \n",
       "31    29564500  \n",
       "460   48209000  \n",
       "173   71417500  \n",
       "760   75055500  \n",
       "\n",
       "[177 rows x 7 columns]"
      ]
     },
     "execution_count": 102,
     "metadata": {},
     "output_type": "execute_result"
    }
   ],
   "source": [
    "test"
   ]
  },
  {
   "cell_type": "code",
   "execution_count": 95,
   "id": "272b0c09",
   "metadata": {},
   "outputs": [],
   "source": [
    "# Import package for linear model\n",
    "from sklearn.linear_model import LinearRegression"
   ]
  },
  {
   "cell_type": "code",
   "execution_count": 96,
   "id": "4d809f1f",
   "metadata": {},
   "outputs": [],
   "source": [
    "# Reshape index column to 2D array for .fit() method\n",
    "X_train = np.array(train.index).reshape(-1, 1)\n",
    "y_train = train['Close']"
   ]
  },
  {
   "cell_type": "code",
   "execution_count": 97,
   "id": "fa8135f3",
   "metadata": {},
   "outputs": [
    {
     "data": {
      "text/plain": [
       "LinearRegression()"
      ]
     },
     "execution_count": 97,
     "metadata": {},
     "output_type": "execute_result"
    }
   ],
   "source": [
    "# Create LinearRegression Object\n",
    "model = LinearRegression()\n",
    "# Fit linear model using the train data set\n",
    "model.fit(X_train, y_train)"
   ]
  },
  {
   "cell_type": "code",
   "execution_count": 98,
   "id": "92b55e93",
   "metadata": {},
   "outputs": [
    {
     "name": "stdout",
     "output_type": "stream",
     "text": [
      "Slope:  0.7566263448620545\n",
      "Intercept:  -118.62415328531335\n"
     ]
    },
    {
     "name": "stderr",
     "output_type": "stream",
     "text": [
      "<ipython-input-98-f46d15fbfb1c>:2: DeprecationWarning: np.asscalar(a) is deprecated since NumPy v1.16, use a.item() instead\n",
      "  print('Slope: ', np.asscalar(np.squeeze(model.coef_)))\n"
     ]
    }
   ],
   "source": [
    "# The coefficient\n",
    "print('Slope: ', np.asscalar(np.squeeze(model.coef_)))\n",
    "# The Intercept\n",
    "print('Intercept: ', model.intercept_)"
   ]
  },
  {
   "cell_type": "code",
   "execution_count": 100,
   "id": "840874bf",
   "metadata": {},
   "outputs": [
    {
     "data": {
      "image/png": "[encoded data removed]",
      "text/plain": [
       "<Figure size 1152x720 with 1 Axes>"
      ]
     },
     "metadata": {
      "needs_background": "light"
     },
     "output_type": "display_data"
    }
   ],
   "source": [
    "# Train set graph\n",
    "plt.figure(1, figsize=(16,10))\n",
    "plt.title('Linear Regression | Price vs Time')\n",
    "plt.scatter(X_train, y_train, edgecolor='w', label='Actual Price')\n",
    "plt.plot(X_train, model.predict(X_train), color='r', label='Predicted Price')\n",
    "\n",
    "plt.xlabel('Integer Date')\n",
    "plt.ylabel('Stock Price')\n",
    "plt.legend()\n",
    "plt.show()"
   ]
  },
  {
   "cell_type": "code",
   "execution_count": 81,
   "id": "83fe527b",
   "metadata": {},
   "outputs": [
    {
     "data": {
      "text/plain": [
       "116.26792695815246"
      ]
     },
     "execution_count": 81,
     "metadata": {},
     "output_type": "execute_result"
    }
   ],
   "source": [
    "\n",
    "from sklearn.metrics import mean_absolute_error as mae\n",
    "\n",
    "#calculate MAE #mean absolute error\n",
    "# plt.scatter(X_train, y_train, edgecolor='w', label='Actual Price')\n",
    "predict = model.predict(X_train)\n",
    "actual =y_train\n",
    "\n",
    "mae(actual,predict )\n"
   ]
  },
  {
   "cell_type": "code",
   "execution_count": 82,
   "id": "874bffc1",
   "metadata": {},
   "outputs": [
    {
     "data": {
      "text/plain": [
       "0.6649136668508846"
      ]
     },
     "execution_count": 82,
     "metadata": {},
     "output_type": "execute_result"
    }
   ],
   "source": [
    "from sklearn.metrics import r2_score\n",
    "r2_score(actual,predict)"
   ]
  },
  {
   "cell_type": "code",
   "execution_count": 56,
   "id": "6a070565",
   "metadata": {},
   "outputs": [],
   "source": [
    "# # Create test arrays\n",
    "# X_test = np.array(test.index).reshape(-1, 1)\n",
    "# y_test = test['Close']\n"
   ]
  },
  {
   "cell_type": "code",
   "execution_count": 57,
   "id": "f59920a7",
   "metadata": {},
   "outputs": [
    {
     "name": "stdout",
     "output_type": "stream",
     "text": [
      "195     51.375999\n",
      "476     70.966003\n",
      "874    656.570007\n",
      "696    425.299988\n",
      "654    290.541992\n",
      "          ...    \n",
      "721    417.130005\n",
      "307     52.084000\n",
      "124     68.589996\n",
      "779    852.229980\n",
      "70      60.068001\n",
      "Name: Close, Length: 177, dtype: float64\n"
     ]
    }
   ],
   "source": [
    "# print(X_test)\n",
    "print(y_test)\n",
    "\n",
    "# # Generate array with predicted values\n",
    "# y_pred = model.predict(X_test)\n",
    "# y_pred \n",
    "\n"
   ]
  },
  {
   "cell_type": "code",
   "execution_count": 50,
   "id": "927faed6",
   "metadata": {},
   "outputs": [
    {
     "data": {
      "text/plain": [
       "0.17202883813690284"
      ]
     },
     "execution_count": 50,
     "metadata": {},
     "output_type": "execute_result"
    }
   ],
   "source": [
    "from sklearn.metrics import r2_score\n",
    "r2_score(X_test, y_pred)\n",
    "\n",
    "# # Get number of rows in data set for random sample\n",
    "# df.shape"
   ]
  },
  {
   "cell_type": "code",
   "execution_count": 51,
   "id": "26ed6049",
   "metadata": {},
   "outputs": [
    {
     "data": {
      "text/plain": [
       "222.32052003546468"
      ]
     },
     "execution_count": 51,
     "metadata": {},
     "output_type": "execute_result"
    }
   ],
   "source": [
    "from sklearn.metrics import mean_absolute_error as mae\n",
    "\n",
    "#calculate MAE #mean absolute error\n",
    "\n",
    "mae(X_test, y_pred )"
   ]
  },
  {
   "cell_type": "code",
   "execution_count": null,
   "id": "c88e27a5",
   "metadata": {},
   "outputs": [],
   "source": []
  }
 ],
 "metadata": {
  "kernelspec": {
   "display_name": "Python 3",
   "language": "python",
   "name": "python3"
  },
  "language_info": {
   "codemirror_mode": {
    "name": "ipython",
    "version": 3
   },
   "file_extension": ".py",
   "mimetype": "text/x-python",
   "name": "python",
   "nbconvert_exporter": "python",
   "pygments_lexer": "ipython3",
   "version": "3.8.8"
  }
 },
 "nbformat": 4,
 "nbformat_minor": 5
}
